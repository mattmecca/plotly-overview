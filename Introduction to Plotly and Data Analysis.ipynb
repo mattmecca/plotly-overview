{
 "cells": [
  {
   "cell_type": "markdown",
   "metadata": {},
   "source": [
    "## Importing our Libraries"
   ]
  },
  {
   "cell_type": "code",
   "execution_count": 1,
   "metadata": {},
   "outputs": [
    {
     "data": {
      "text/html": [
       "<script>requirejs.config({paths: { 'plotly': ['https://cdn.plot.ly/plotly-latest.min']},});if(!window.Plotly) {{require(['plotly'],function(plotly) {window.Plotly=plotly;});}}</script>"
      ],
      "text/vnd.plotly.v1+html": [
       "<script>requirejs.config({paths: { 'plotly': ['https://cdn.plot.ly/plotly-latest.min']},});if(!window.Plotly) {{require(['plotly'],function(plotly) {window.Plotly=plotly;});}}</script>"
      ]
     },
     "metadata": {},
     "output_type": "display_data"
    }
   ],
   "source": [
    "import pandas as pd\n",
    "import numpy as np\n",
    "import matplotlib as plt\n",
    "\n",
    "from IPython.display import Image\n",
    "import plotly.offline as p\n",
    "import plotly.graph_objs as go\n",
    "p.init_notebook_mode(connected=True)"
   ]
  },
  {
   "cell_type": "code",
   "execution_count": 2,
   "metadata": {},
   "outputs": [],
   "source": [
    "snap = pd.read_csv('/Users/MattMecca/Documents/Data Challenges/Data Folder/Example Client 1 – \"SNAP\".csv')\n",
    "\n",
    "crackle = pd.read_csv('/Users/MattMecca/Documents/Data Challenges/Data Folder/Example Client 2 – \"CRACKLE\".csv')\n",
    "\n",
    "pop = pd.read_csv('/Users/MattMecca/Documents/Data Challenges/Data Folder/Example Client 3 – \"POP\".csv')\n"
   ]
  },
  {
   "cell_type": "markdown",
   "metadata": {},
   "source": [
    "I worked to transpose the data in order to make it more amenable to what we're doing."
   ]
  },
  {
   "cell_type": "code",
   "execution_count": 3,
   "metadata": {
    "scrolled": true
   },
   "outputs": [],
   "source": [
    "snap = snap.iloc[1:6,:]"
   ]
  },
  {
   "cell_type": "code",
   "execution_count": 4,
   "metadata": {},
   "outputs": [],
   "source": [
    "identifier1 = {'identifier': 'snap'} # Adding constant feature \n",
    "snap3 = pd.concat([snap, pd.DataFrame(identifier1, index = snap.index)], axis=1)\n",
    "snap3.drop('total_estd_impressions', axis=1, inplace=True) \n"
   ]
  },
  {
   "cell_type": "code",
   "execution_count": 5,
   "metadata": {},
   "outputs": [],
   "source": [
    "crackle = crackle.iloc[:4,:]\n",
    "crackle['non_unique_activations'] = crackle.total_activations - crackle.total_unique_activations\n",
    "crackle\n",
    "\n",
    "identifier2 = {'identifier': 'crackle'}\n",
    "crackle3 = pd.concat([crackle, pd.DataFrame(identifier2, index=crackle.index)], axis=1)\n",
    "crackle3.drop('total_estd_impressions', axis=1, inplace=True) \n",
    "crackle3.drop('non_unique_activations', axis=1, inplace=True) \n",
    "\n"
   ]
  },
  {
   "cell_type": "code",
   "execution_count": 6,
   "metadata": {},
   "outputs": [],
   "source": [
    "pop = pop.iloc[0:4,:]\n",
    "pop\n",
    "\n",
    "identifier3 = {'identifier': 'pop'}\n",
    "pop3 = pd.concat([pop, pd.DataFrame(identifier3, index=pop.index)], axis=1)\n",
    "pop2 = pop[['month', 'total_potential_reach', 'total_activations', 'total_engagements']]\n",
    "\n",
    "pop2 = pd.melt(pop2, id_vars = 'month')\n",
    "pop2 = pop2.sort_values(['month', 'value'], ascending=[True, False]).reset_index()\n",
    "pop2 = pop2.iloc[:,1:4]\n",
    "\n"
   ]
  },
  {
   "cell_type": "code",
   "execution_count": 7,
   "metadata": {},
   "outputs": [],
   "source": [
    "snap1 = snap[['month', 'unique_static_acts', 'unique_non_static_acts', 'total_unique_activations']]\n",
    "\n",
    "snap1 = pd.melt(snap1, id_vars = 'month')\n",
    "snap1 = snap1.sort_values(['month'], ascending=[True]).reset_index()\n",
    "snap1 = snap1.iloc[:,1:4]\n"
   ]
  },
  {
   "cell_type": "code",
   "execution_count": 8,
   "metadata": {},
   "outputs": [],
   "source": [
    "snap2 = snap[['month', 'total_potential_reach', 'total_estd_impressions', 'total_engagements']]\n",
    "\n",
    "snap2 = pd.melt(snap2, id_vars = 'month')\n",
    "snap2 = snap2.sort_values(['month', 'value'], ascending=[True, False]).reset_index()\n",
    "snap2 = snap2.iloc[:,1:4]\n"
   ]
  },
  {
   "cell_type": "code",
   "execution_count": 9,
   "metadata": {},
   "outputs": [],
   "source": [
    "crackle1 = crackle[['month', 'unique_static_acts', 'unique_non_static_acts', 'total_unique_activations']]\n",
    "\n",
    "crackle1 = pd.melt(crackle1, id_vars = 'month')\n",
    "crackle1 = crackle1.sort_values(['month'], ascending=[True]).reset_index()\n",
    "crackle1 = crackle1.iloc[:,1:4]\n"
   ]
  },
  {
   "cell_type": "code",
   "execution_count": 10,
   "metadata": {},
   "outputs": [],
   "source": [
    "crackle2 = crackle[['month', 'total_potential_reach', 'total_estd_impressions', 'total_engagements']]\n",
    "\n",
    "crackle2 = pd.melt(crackle2, id_vars = 'month')\n",
    "crackle2 = crackle2.sort_values(['month'], ascending=[True]).reset_index()\n",
    "crackle2 = crackle2.iloc[:,1:4]\n"
   ]
  },
  {
   "cell_type": "code",
   "execution_count": 11,
   "metadata": {},
   "outputs": [],
   "source": [
    "pop1 = pop[['month', 'unique_static_acts', 'unique_non_static_acts', 'total_unique_activations']]\n",
    "\n",
    "pop1 = pd.melt(pop1, id_vars = 'month')\n",
    "pop1 = pop1.sort_values(['month'], ascending=[True]).reset_index()\n",
    "pop1 = pop1.iloc[:,1:4]\n"
   ]
  },
  {
   "cell_type": "code",
   "execution_count": 12,
   "metadata": {},
   "outputs": [],
   "source": [
    "pop2 = pop[['month', 'total_potential_reach', 'total_engagements']]\n",
    "\n",
    "pop2 = pd.melt(pop2, id_vars = 'month')\n",
    "pop2 = pop2.sort_values(['month'], ascending=[True]).reset_index()\n",
    "pop2 = pop2.iloc[:,1:4]\n"
   ]
  },
  {
   "cell_type": "code",
   "execution_count": 13,
   "metadata": {},
   "outputs": [],
   "source": [
    "combo1 = snap1.merge(pop1, how='left', left_on = ['month', 'variable'], right_on = ['month', 'variable'])\n",
    "\n",
    "combo1 = combo1.merge(crackle1, how='outer', left_on = ['month', 'variable'], right_on = ['month', 'variable'])\n",
    "combo1 = combo1.sort_values(['month'], ascending=[True])\n",
    "\n",
    "combo1.columns = ['month', 'variable', 'snap1_val', 'crack1_val', 'pop1_val']"
   ]
  },
  {
   "cell_type": "code",
   "execution_count": 14,
   "metadata": {},
   "outputs": [],
   "source": [
    "combo2 = snap2.merge(pop2, how='left', left_on = ['month', 'variable'], right_on = ['month', 'variable'])\n",
    "\n",
    "combo2 = combo2.merge(crackle2, how='outer', left_on = ['month', 'variable'], right_on = ['month', 'variable'])\n",
    "combo2.sort_values(['month'], ascending=[True])\n",
    "\n",
    "combo2.columns = ['month', 'variable', 'snap2_val', 'crack2_val', 'pop2_val']\n"
   ]
  },
  {
   "cell_type": "code",
   "execution_count": 15,
   "metadata": {},
   "outputs": [],
   "source": [
    "stacked_combo = pd.concat([snap3, crackle3, pop3], axis=0).reset_index(drop = True)\n"
   ]
  },
  {
   "cell_type": "code",
   "execution_count": 16,
   "metadata": {},
   "outputs": [],
   "source": [
    "total_engagements = combo2.loc[combo2.variable == 'total_engagements']\n",
    "total_potential_reach = combo2.loc[combo2.variable == 'total_potential_reach']\n"
   ]
  },
  {
   "cell_type": "code",
   "execution_count": 17,
   "metadata": {},
   "outputs": [],
   "source": [
    "snap2 = snap[['month', 'conf_seedings', 'total_activations']].reset_index(drop = True)\n",
    "identifier1 = {'identifier': 'snap'} # Adding constant feature \n",
    "snap2 = pd.melt(snap2, id_vars = 'month')\n",
    "snap2 = pd.concat([snap2, pd.DataFrame([identifier1]*len(snap2))], axis = 1)\n",
    "snap2 = snap2.sort_values(['month'], ascending=[True]).reset_index(drop = True)\n"
   ]
  },
  {
   "cell_type": "code",
   "execution_count": 18,
   "metadata": {},
   "outputs": [],
   "source": [
    "crackle2 = crackle[['month', 'conf_seedings', 'total_activations']]\n",
    "identifier2 = {'identifier': 'crackle'} # Adding constant feature \n",
    "crackle2 = pd.melt(crackle2, id_vars = 'month')\n",
    "crackle2 = pd.concat([crackle2, pd.DataFrame([identifier2]*len(crackle2))], axis = 1)\n",
    "crackle2 = crackle2.sort_values(['month'], ascending=[True]).reset_index(drop = True)\n"
   ]
  },
  {
   "cell_type": "code",
   "execution_count": 19,
   "metadata": {},
   "outputs": [],
   "source": [
    "pop2 = pop[['month', 'conf_seedings', 'total_activations']]\n",
    "identifier3 = {'identifier': 'pop'} # Adding constant feature \n",
    "pop2 = pd.melt(pop2, id_vars = 'month')\n",
    "pop2 = pd.concat([pop2, pd.DataFrame([identifier3]*len(pop2))], axis = 1)\n",
    "pop2 = pop2.sort_values(['month'], ascending=[True]).reset_index(drop = True)\n"
   ]
  },
  {
   "cell_type": "code",
   "execution_count": 20,
   "metadata": {},
   "outputs": [],
   "source": [
    "combo2 = snap2.merge(crackle2, how='left', left_on = ['month', 'variable'], right_on = ['month', 'variable'])\n",
    "combo2 = combo2.merge(pop2, how='left', left_on = ['month', 'variable'], right_on = ['month', 'variable'])\n",
    "combo2 = combo2[['month', 'variable', 'value_x', 'value_y', 'value']]\n",
    "combo2.columns = ['month', 'variable', 'snap2_val', 'crack2_val', 'pop2_val']\n",
    "\n"
   ]
  },
  {
   "cell_type": "code",
   "execution_count": 21,
   "metadata": {},
   "outputs": [],
   "source": [
    "conf_seedings = combo2.loc[combo2['variable'] == 'conf_seedings'].reset_index(drop = True)\n",
    "total_activations = combo2.loc[combo2['variable'] == 'total_activations'].reset_index(drop = True)\n"
   ]
  },
  {
   "cell_type": "markdown",
   "metadata": {},
   "source": [
    "# Testing for Correlation "
   ]
  },
  {
   "cell_type": "markdown",
   "metadata": {},
   "source": [
    "I do a few \"correlation tests\" below. They aren't statistical –– simply graphical. I chose not to run any statistical tests here mainly because of the sparsity of our data."
   ]
  },
  {
   "cell_type": "markdown",
   "metadata": {},
   "source": [
    "## Seedings and their Effect on Total Activations"
   ]
  },
  {
   "cell_type": "markdown",
   "metadata": {},
   "source": [
    "Here we look at Snap, Crackle, and Pops' seeding numbers and what kind of effect they have on the companys' total activation figures."
   ]
  },
  {
   "cell_type": "code",
   "execution_count": 22,
   "metadata": {},
   "outputs": [
    {
     "data": {
      "application/vnd.plotly.v1+json": {
       "data": [
        {
         "line": {
          "dash": "dashdot"
         },
         "marker": {
          "color": "blue",
          "line": {
           "color": "rgb(8,48,107)",
           "width": 1.5
          }
         },
         "name": "Snap –– Seedings",
         "type": "scatter",
         "uid": "1adff0a2-a4b1-11e8-ac0a-d0a637eba0e3",
         "x": [
          "1",
          "2",
          "3",
          "4",
          "5"
         ],
         "y": [
          33,
          33,
          33,
          46,
          32
         ]
        },
        {
         "line": {
          "dash": "dashdot"
         },
         "marker": {
          "color": "green",
          "line": {
           "color": "rgb(8,48,107)",
           "width": 1.5
          }
         },
         "name": "Crackle –– Seedings",
         "type": "scatter",
         "uid": "1ae43d42-a4b1-11e8-8759-d0a637eba0e3",
         "x": [
          "1",
          "2",
          "3",
          "4",
          "5"
         ],
         "y": [
          null,
          null,
          43,
          16,
          62
         ]
        },
        {
         "line": {
          "dash": "dashdot"
         },
         "marker": {
          "color": "red",
          "line": {
           "color": "rgb(8,48,107)",
           "width": 1.5
          }
         },
         "name": "Pop –– Seedings",
         "type": "scatter",
         "uid": "1ae440da-a4b1-11e8-9dfe-d0a637eba0e3",
         "x": [
          "1",
          "2",
          "3",
          "4",
          "5"
         ],
         "y": [
          null,
          46,
          52,
          7,
          null
         ]
        },
        {
         "marker": {
          "color": "blue",
          "line": {
           "color": "rgb(8,48,107)",
           "width": 3.5
          }
         },
         "name": "Snap –– Activations",
         "type": "scatter",
         "uid": "1ae4433a-a4b1-11e8-89a4-d0a637eba0e3",
         "x": [
          "1",
          "2",
          "3",
          "4",
          "5"
         ],
         "y": [
          19,
          19,
          19,
          42,
          34
         ]
        },
        {
         "marker": {
          "color": "green",
          "line": {
           "color": "rgb(8,48,107)",
           "width": 3.5
          }
         },
         "name": "Crackle –– Activations",
         "type": "scatter",
         "uid": "1ae445ba-a4b1-11e8-a774-d0a637eba0e3",
         "x": [
          "1",
          "2",
          "3",
          "4",
          "5"
         ],
         "y": [
          null,
          null,
          12,
          45,
          38
         ]
        },
        {
         "marker": {
          "color": "red",
          "line": {
           "color": "rgb(8,48,107)",
           "width": 3.5
          }
         },
         "name": "Pop –– Activations",
         "type": "scatter",
         "uid": "1ae447e2-a4b1-11e8-afad-d0a637eba0e3",
         "x": [
          "1",
          "2",
          "3",
          "4",
          "5"
         ],
         "y": [
          null,
          0,
          86,
          65,
          5
         ]
        }
       ],
       "layout": {
        "autosize": false,
        "title": "Seedings and their effect on Total Activations",
        "xaxis": {
         "title": "Month",
         "titlefont": {
          "color": "#7f7f7f",
          "family": "Courier New, monospace",
          "size": 18
         }
        },
        "yaxis": {
         "title": "Total Sum",
         "titlefont": {
          "color": "#7f7f7f",
          "family": "Courier New, monospace",
          "size": 18
         }
        }
       }
      },
      "text/html": [
       "<div id=\"dc23e77e-f311-4e40-86a1-1317d0c137da\" style=\"height: 525px; width: 100%;\" class=\"plotly-graph-div\"></div><script type=\"text/javascript\">require([\"plotly\"], function(Plotly) { window.PLOTLYENV=window.PLOTLYENV || {};window.PLOTLYENV.BASE_URL=\"https://plot.ly\";\n",
       "        Plotly.plot(\n",
       "            'dc23e77e-f311-4e40-86a1-1317d0c137da',\n",
       "            [{\"line\": {\"dash\": \"dashdot\"}, \"marker\": {\"color\": \"blue\", \"line\": {\"color\": \"rgb(8,48,107)\", \"width\": 1.5}}, \"name\": \"Snap \\u2013\\u2013\\u00a0Seedings\", \"x\": [\"1\", \"2\", \"3\", \"4\", \"5\"], \"y\": [33.0, 33.0, 33.0, 46.0, 32.0], \"type\": \"scatter\", \"uid\": \"1adff0a2-a4b1-11e8-ac0a-d0a637eba0e3\"}, {\"line\": {\"dash\": \"dashdot\"}, \"marker\": {\"color\": \"green\", \"line\": {\"color\": \"rgb(8,48,107)\", \"width\": 1.5}}, \"name\": \"Crackle \\u2013\\u2013\\u00a0Seedings\", \"x\": [\"1\", \"2\", \"3\", \"4\", \"5\"], \"y\": [null, null, 43.0, 16.0, 62.0], \"type\": \"scatter\", \"uid\": \"1ae43d42-a4b1-11e8-8759-d0a637eba0e3\"}, {\"line\": {\"dash\": \"dashdot\"}, \"marker\": {\"color\": \"red\", \"line\": {\"color\": \"rgb(8,48,107)\", \"width\": 1.5}}, \"name\": \"Pop\\u00a0\\u2013\\u2013 Seedings\", \"x\": [\"1\", \"2\", \"3\", \"4\", \"5\"], \"y\": [null, 46.0, 52.0, 7.0, null], \"type\": \"scatter\", \"uid\": \"1ae440da-a4b1-11e8-9dfe-d0a637eba0e3\"}, {\"marker\": {\"color\": \"blue\", \"line\": {\"color\": \"rgb(8,48,107)\", \"width\": 3.5}}, \"name\": \"Snap \\u2013\\u2013 Activations\", \"x\": [\"1\", \"2\", \"3\", \"4\", \"5\"], \"y\": [19.0, 19.0, 19.0, 42.0, 34.0], \"type\": \"scatter\", \"uid\": \"1ae4433a-a4b1-11e8-89a4-d0a637eba0e3\"}, {\"marker\": {\"color\": \"green\", \"line\": {\"color\": \"rgb(8,48,107)\", \"width\": 3.5}}, \"name\": \"Crackle \\u2013\\u2013 Activations\", \"x\": [\"1\", \"2\", \"3\", \"4\", \"5\"], \"y\": [null, null, 12.0, 45.0, 38.0], \"type\": \"scatter\", \"uid\": \"1ae445ba-a4b1-11e8-a774-d0a637eba0e3\"}, {\"marker\": {\"color\": \"red\", \"line\": {\"color\": \"rgb(8,48,107)\", \"width\": 3.5}}, \"name\": \"Pop \\u2013\\u2013 Activations\", \"x\": [\"1\", \"2\", \"3\", \"4\", \"5\"], \"y\": [null, 0.0, 86.0, 65.0, 5.0], \"type\": \"scatter\", \"uid\": \"1ae447e2-a4b1-11e8-afad-d0a637eba0e3\"}],\n",
       "            {\"autosize\": false, \"title\": \"Seedings and their effect on Total Activations\", \"xaxis\": {\"title\": \"Month\", \"titlefont\": {\"color\": \"#7f7f7f\", \"family\": \"Courier New, monospace\", \"size\": 18}}, \"yaxis\": {\"title\": \"Total Sum\", \"titlefont\": {\"color\": \"#7f7f7f\", \"family\": \"Courier New, monospace\", \"size\": 18}}},\n",
       "            {\"showLink\": true, \"linkText\": \"Export to plot.ly\"}\n",
       "        ).then(function () {return Plotly.addFrames('dc23e77e-f311-4e40-86a1-1317d0c137da',{});}).then(function(){Plotly.animate('dc23e77e-f311-4e40-86a1-1317d0c137da');})\n",
       "        });</script>"
      ],
      "text/vnd.plotly.v1+html": [
       "<div id=\"dc23e77e-f311-4e40-86a1-1317d0c137da\" style=\"height: 525px; width: 100%;\" class=\"plotly-graph-div\"></div><script type=\"text/javascript\">require([\"plotly\"], function(Plotly) { window.PLOTLYENV=window.PLOTLYENV || {};window.PLOTLYENV.BASE_URL=\"https://plot.ly\";\n",
       "        Plotly.plot(\n",
       "            'dc23e77e-f311-4e40-86a1-1317d0c137da',\n",
       "            [{\"line\": {\"dash\": \"dashdot\"}, \"marker\": {\"color\": \"blue\", \"line\": {\"color\": \"rgb(8,48,107)\", \"width\": 1.5}}, \"name\": \"Snap \\u2013\\u2013\\u00a0Seedings\", \"x\": [\"1\", \"2\", \"3\", \"4\", \"5\"], \"y\": [33.0, 33.0, 33.0, 46.0, 32.0], \"type\": \"scatter\", \"uid\": \"1adff0a2-a4b1-11e8-ac0a-d0a637eba0e3\"}, {\"line\": {\"dash\": \"dashdot\"}, \"marker\": {\"color\": \"green\", \"line\": {\"color\": \"rgb(8,48,107)\", \"width\": 1.5}}, \"name\": \"Crackle \\u2013\\u2013\\u00a0Seedings\", \"x\": [\"1\", \"2\", \"3\", \"4\", \"5\"], \"y\": [null, null, 43.0, 16.0, 62.0], \"type\": \"scatter\", \"uid\": \"1ae43d42-a4b1-11e8-8759-d0a637eba0e3\"}, {\"line\": {\"dash\": \"dashdot\"}, \"marker\": {\"color\": \"red\", \"line\": {\"color\": \"rgb(8,48,107)\", \"width\": 1.5}}, \"name\": \"Pop\\u00a0\\u2013\\u2013 Seedings\", \"x\": [\"1\", \"2\", \"3\", \"4\", \"5\"], \"y\": [null, 46.0, 52.0, 7.0, null], \"type\": \"scatter\", \"uid\": \"1ae440da-a4b1-11e8-9dfe-d0a637eba0e3\"}, {\"marker\": {\"color\": \"blue\", \"line\": {\"color\": \"rgb(8,48,107)\", \"width\": 3.5}}, \"name\": \"Snap \\u2013\\u2013 Activations\", \"x\": [\"1\", \"2\", \"3\", \"4\", \"5\"], \"y\": [19.0, 19.0, 19.0, 42.0, 34.0], \"type\": \"scatter\", \"uid\": \"1ae4433a-a4b1-11e8-89a4-d0a637eba0e3\"}, {\"marker\": {\"color\": \"green\", \"line\": {\"color\": \"rgb(8,48,107)\", \"width\": 3.5}}, \"name\": \"Crackle \\u2013\\u2013 Activations\", \"x\": [\"1\", \"2\", \"3\", \"4\", \"5\"], \"y\": [null, null, 12.0, 45.0, 38.0], \"type\": \"scatter\", \"uid\": \"1ae445ba-a4b1-11e8-a774-d0a637eba0e3\"}, {\"marker\": {\"color\": \"red\", \"line\": {\"color\": \"rgb(8,48,107)\", \"width\": 3.5}}, \"name\": \"Pop \\u2013\\u2013 Activations\", \"x\": [\"1\", \"2\", \"3\", \"4\", \"5\"], \"y\": [null, 0.0, 86.0, 65.0, 5.0], \"type\": \"scatter\", \"uid\": \"1ae447e2-a4b1-11e8-afad-d0a637eba0e3\"}],\n",
       "            {\"autosize\": false, \"title\": \"Seedings and their effect on Total Activations\", \"xaxis\": {\"title\": \"Month\", \"titlefont\": {\"color\": \"#7f7f7f\", \"family\": \"Courier New, monospace\", \"size\": 18}}, \"yaxis\": {\"title\": \"Total Sum\", \"titlefont\": {\"color\": \"#7f7f7f\", \"family\": \"Courier New, monospace\", \"size\": 18}}},\n",
       "            {\"showLink\": true, \"linkText\": \"Export to plot.ly\"}\n",
       "        ).then(function () {return Plotly.addFrames('dc23e77e-f311-4e40-86a1-1317d0c137da',{});}).then(function(){Plotly.animate('dc23e77e-f311-4e40-86a1-1317d0c137da');})\n",
       "        });</script>"
      ]
     },
     "metadata": {},
     "output_type": "display_data"
    }
   ],
   "source": [
    "trace1 = go.Scatter(x = conf_seedings.month, \n",
    "                    y = conf_seedings['snap2_val'],\n",
    "                    marker = dict(color = 'blue',\n",
    "                                line = dict(color='rgb(8,48,107)',\n",
    "                                width = 1.5)),\n",
    "                    name = 'Snap –– Seedings',\n",
    "                    line = dict(dash = 'dashdot'))\n",
    "\n",
    "trace2 = go.Scatter(x = conf_seedings.month, \n",
    "                    y = conf_seedings['crack2_val'],\n",
    "                    marker = dict(color = 'green',\n",
    "                                line = dict(color='rgb(8,48,107)',\n",
    "                                width = 1.5)),\n",
    "                    name = 'Crackle –– Seedings',\n",
    "                    line = dict(dash = 'dashdot'))\n",
    "\n",
    "trace3 = go.Scatter(x = conf_seedings.month, \n",
    "                    y = conf_seedings['pop2_val'],\n",
    "                    marker = dict(color = 'red',\n",
    "                                line = dict(color='rgb(8,48,107)',\n",
    "                                width = 1.5)),\n",
    "                    name = 'Pop –– Seedings',\n",
    "                    line = dict(dash = 'dashdot'))\n",
    "\n",
    "trace4 = go.Scatter(x = total_activations.month, \n",
    "                    y = total_activations['snap2_val'],\n",
    "                    marker = dict(color = 'blue',\n",
    "                                line = dict(color='rgb(8,48,107)',\n",
    "                                width = 3.5)),\n",
    "                    name = 'Snap –– Activations')\n",
    "\n",
    "trace5 = go.Scatter(x = total_activations.month, \n",
    "                    y = total_activations['crack2_val'],\n",
    "                    marker = dict(color = 'green',\n",
    "                                line = dict(color='rgb(8,48,107)',\n",
    "                                width = 3.5)),\n",
    "                    name = 'Crackle –– Activations')\n",
    "\n",
    "trace6 = go.Scatter(x = total_activations.month, \n",
    "                    y = total_activations['pop2_val'],\n",
    "                    marker = dict(color = 'red',\n",
    "                                line = dict(color='rgb(8,48,107)',\n",
    "                                width = 3.5)),\n",
    "                    name = 'Pop –– Activations')\n",
    "\n",
    "layout = go.Layout(title = 'Seedings and their effect on Total Activations',\n",
    "                   autosize = False,\n",
    "                   xaxis = dict(\n",
    "                                title='Month',\n",
    "                                titlefont=dict(\n",
    "                                family='Courier New, monospace',\n",
    "                                size=18,\n",
    "                                color='#7f7f7f')),\n",
    "                   yaxis = dict(\n",
    "                                title='Total Sum',\n",
    "                                titlefont=dict(\n",
    "                                family='Courier New, monospace',\n",
    "                                size=18,\n",
    "                                color = '#7f7f7f')))\n",
    "\n",
    "\n",
    "data1 = [trace1, trace2, trace3, trace4, trace5, trace6]\n",
    "\n",
    "fig1 = go.Figure(data = data1, layout = layout)\n",
    "p.iplot(fig1)"
   ]
  },
  {
   "cell_type": "markdown",
   "metadata": {},
   "source": [
    "This graph is harder to read, but it seems that, for the most part, seedings share a **positive** correlation with activations. The only time where that is not true is with the Crackle company. There seems to a exists a sharply ***negative*** correlation there."
   ]
  },
  {
   "cell_type": "markdown",
   "metadata": {},
   "source": [
    "I took the log for some of these graphs so as to make this readable. My reasoning for this was the number of 'Engagements' is exponentially larger than the number of 'Seedings' that have taken place. By my eye, it seems seedings have an appreciable effect on Pop's engagements, though the effect is lagged by a period or two and its persistence seems variable. Snap's seeding almost perfectly predicts, or explains, the movement of its engagements. As for crackle,the same negative correlation we saw between our two variables of interest seems to persist here as well."
   ]
  },
  {
   "cell_type": "markdown",
   "metadata": {},
   "source": [
    "## Seedings and Activations"
   ]
  },
  {
   "cell_type": "markdown",
   "metadata": {},
   "source": [
    "The idea here is that the greater the number of **seedings** (i.e., the more products we send to influencers), the greater the number of **activations**. We test our hypothesis below:"
   ]
  },
  {
   "cell_type": "code",
   "execution_count": 23,
   "metadata": {},
   "outputs": [
    {
     "data": {
      "application/vnd.plotly.v1+json": {
       "data": [
        {
         "line": {
          "dash": "dashdot"
         },
         "marker": {
          "color": "blue",
          "line": {
           "color": "rgb(8,48,107)",
           "width": 1.5
          }
         },
         "name": "Snap –– Seedings",
         "type": "scatter",
         "uid": "1c995fd2-a4b1-11e8-bf56-d0a637eba0e3",
         "x": [
          "1",
          "2",
          "3",
          "4",
          "5"
         ],
         "y": [
          33,
          33,
          33,
          46,
          32
         ]
        },
        {
         "line": {
          "dash": "dashdot"
         },
         "marker": {
          "color": "green",
          "line": {
           "color": "rgb(8,48,107)",
           "width": 1.5
          }
         },
         "name": "Crackle –– Seedings",
         "type": "scatter",
         "uid": "1c9961a8-a4b1-11e8-9e16-d0a637eba0e3",
         "x": [
          "1",
          "2",
          "3",
          "4",
          "5"
         ],
         "y": [
          null,
          null,
          43,
          16,
          62
         ]
        },
        {
         "line": {
          "dash": "dashdot"
         },
         "marker": {
          "color": "red",
          "line": {
           "color": "rgb(8,48,107)",
           "width": 1.5
          }
         },
         "name": "Pop –– Seedings",
         "type": "scatter",
         "uid": "1c9962de-a4b1-11e8-89c2-d0a637eba0e3",
         "x": [
          "1",
          "2",
          "3",
          "4",
          "5"
         ],
         "y": [
          null,
          46,
          52,
          7,
          null
         ]
        },
        {
         "marker": {
          "color": "blue",
          "line": {
           "color": "rgb(8,48,107)",
           "width": 3.5
          }
         },
         "name": "Snap –– Engagements",
         "type": "scatter",
         "uid": "1c9963a6-a4b1-11e8-9a32-d0a637eba0e3",
         "x": [
          "1",
          "2",
          "3",
          "4",
          "5"
         ],
         "y": [
          19,
          19,
          19,
          42,
          34
         ]
        },
        {
         "marker": {
          "color": "green",
          "line": {
           "color": "rgb(8,48,107)",
           "width": 3.5
          }
         },
         "name": "Crackle –– Engagements",
         "type": "scatter",
         "uid": "1c996464-a4b1-11e8-b9f6-d0a637eba0e3",
         "x": [
          "1",
          "2",
          "3",
          "4",
          "5"
         ],
         "y": [
          null,
          null,
          12,
          45,
          38
         ]
        },
        {
         "marker": {
          "color": "red",
          "line": {
           "color": "rgb(8,48,107)",
           "width": 3.5
          }
         },
         "name": "Pop –– Engagements",
         "type": "scatter",
         "uid": "1c99650c-a4b1-11e8-a155-d0a637eba0e3",
         "x": [
          "1",
          "2",
          "3",
          "4",
          "5"
         ],
         "y": [
          null,
          0,
          86,
          65,
          5
         ]
        }
       ],
       "layout": {
        "autosize": false,
        "title": "Seedings and their Effect on Total Activations",
        "xaxis": {
         "title": "Month",
         "titlefont": {
          "color": "#7f7f7f",
          "family": "Courier New, monospace",
          "size": 18
         }
        },
        "yaxis": {
         "title": "Total Sum",
         "titlefont": {
          "color": "#7f7f7f",
          "family": "Courier New, monospace",
          "size": 18
         },
         "type": "log"
        }
       }
      },
      "text/html": [
       "<div id=\"bb50d0e9-9e5a-491d-9ea2-4715b0fa7072\" style=\"height: 525px; width: 100%;\" class=\"plotly-graph-div\"></div><script type=\"text/javascript\">require([\"plotly\"], function(Plotly) { window.PLOTLYENV=window.PLOTLYENV || {};window.PLOTLYENV.BASE_URL=\"https://plot.ly\";\n",
       "        Plotly.plot(\n",
       "            'bb50d0e9-9e5a-491d-9ea2-4715b0fa7072',\n",
       "            [{\"line\": {\"dash\": \"dashdot\"}, \"marker\": {\"color\": \"blue\", \"line\": {\"color\": \"rgb(8,48,107)\", \"width\": 1.5}}, \"name\": \"Snap \\u2013\\u2013\\u00a0Seedings\", \"x\": [\"1\", \"2\", \"3\", \"4\", \"5\"], \"y\": [33.0, 33.0, 33.0, 46.0, 32.0], \"type\": \"scatter\", \"uid\": \"1c995fd2-a4b1-11e8-bf56-d0a637eba0e3\"}, {\"line\": {\"dash\": \"dashdot\"}, \"marker\": {\"color\": \"green\", \"line\": {\"color\": \"rgb(8,48,107)\", \"width\": 1.5}}, \"name\": \"Crackle \\u2013\\u2013\\u00a0Seedings\", \"x\": [\"1\", \"2\", \"3\", \"4\", \"5\"], \"y\": [null, null, 43.0, 16.0, 62.0], \"type\": \"scatter\", \"uid\": \"1c9961a8-a4b1-11e8-9e16-d0a637eba0e3\"}, {\"line\": {\"dash\": \"dashdot\"}, \"marker\": {\"color\": \"red\", \"line\": {\"color\": \"rgb(8,48,107)\", \"width\": 1.5}}, \"name\": \"Pop\\u00a0\\u2013\\u2013 Seedings\", \"x\": [\"1\", \"2\", \"3\", \"4\", \"5\"], \"y\": [null, 46.0, 52.0, 7.0, null], \"type\": \"scatter\", \"uid\": \"1c9962de-a4b1-11e8-89c2-d0a637eba0e3\"}, {\"marker\": {\"color\": \"blue\", \"line\": {\"color\": \"rgb(8,48,107)\", \"width\": 3.5}}, \"name\": \"Snap \\u2013\\u2013 Engagements\", \"x\": [\"1\", \"2\", \"3\", \"4\", \"5\"], \"y\": [19.0, 19.0, 19.0, 42.0, 34.0], \"type\": \"scatter\", \"uid\": \"1c9963a6-a4b1-11e8-9a32-d0a637eba0e3\"}, {\"marker\": {\"color\": \"green\", \"line\": {\"color\": \"rgb(8,48,107)\", \"width\": 3.5}}, \"name\": \"Crackle \\u2013\\u2013 Engagements\", \"x\": [\"1\", \"2\", \"3\", \"4\", \"5\"], \"y\": [null, null, 12.0, 45.0, 38.0], \"type\": \"scatter\", \"uid\": \"1c996464-a4b1-11e8-b9f6-d0a637eba0e3\"}, {\"marker\": {\"color\": \"red\", \"line\": {\"color\": \"rgb(8,48,107)\", \"width\": 3.5}}, \"name\": \"Pop \\u2013\\u2013 Engagements\", \"x\": [\"1\", \"2\", \"3\", \"4\", \"5\"], \"y\": [null, 0.0, 86.0, 65.0, 5.0], \"type\": \"scatter\", \"uid\": \"1c99650c-a4b1-11e8-a155-d0a637eba0e3\"}],\n",
       "            {\"autosize\": false, \"title\": \"Seedings and their Effect on Total Activations\", \"xaxis\": {\"title\": \"Month\", \"titlefont\": {\"color\": \"#7f7f7f\", \"family\": \"Courier New, monospace\", \"size\": 18}}, \"yaxis\": {\"title\": \"Total Sum\", \"titlefont\": {\"color\": \"#7f7f7f\", \"family\": \"Courier New, monospace\", \"size\": 18}, \"type\": \"log\"}},\n",
       "            {\"showLink\": true, \"linkText\": \"Export to plot.ly\"}\n",
       "        ).then(function () {return Plotly.addFrames('bb50d0e9-9e5a-491d-9ea2-4715b0fa7072',{});}).then(function(){Plotly.animate('bb50d0e9-9e5a-491d-9ea2-4715b0fa7072');})\n",
       "        });</script>"
      ],
      "text/vnd.plotly.v1+html": [
       "<div id=\"bb50d0e9-9e5a-491d-9ea2-4715b0fa7072\" style=\"height: 525px; width: 100%;\" class=\"plotly-graph-div\"></div><script type=\"text/javascript\">require([\"plotly\"], function(Plotly) { window.PLOTLYENV=window.PLOTLYENV || {};window.PLOTLYENV.BASE_URL=\"https://plot.ly\";\n",
       "        Plotly.plot(\n",
       "            'bb50d0e9-9e5a-491d-9ea2-4715b0fa7072',\n",
       "            [{\"line\": {\"dash\": \"dashdot\"}, \"marker\": {\"color\": \"blue\", \"line\": {\"color\": \"rgb(8,48,107)\", \"width\": 1.5}}, \"name\": \"Snap \\u2013\\u2013\\u00a0Seedings\", \"x\": [\"1\", \"2\", \"3\", \"4\", \"5\"], \"y\": [33.0, 33.0, 33.0, 46.0, 32.0], \"type\": \"scatter\", \"uid\": \"1c995fd2-a4b1-11e8-bf56-d0a637eba0e3\"}, {\"line\": {\"dash\": \"dashdot\"}, \"marker\": {\"color\": \"green\", \"line\": {\"color\": \"rgb(8,48,107)\", \"width\": 1.5}}, \"name\": \"Crackle \\u2013\\u2013\\u00a0Seedings\", \"x\": [\"1\", \"2\", \"3\", \"4\", \"5\"], \"y\": [null, null, 43.0, 16.0, 62.0], \"type\": \"scatter\", \"uid\": \"1c9961a8-a4b1-11e8-9e16-d0a637eba0e3\"}, {\"line\": {\"dash\": \"dashdot\"}, \"marker\": {\"color\": \"red\", \"line\": {\"color\": \"rgb(8,48,107)\", \"width\": 1.5}}, \"name\": \"Pop\\u00a0\\u2013\\u2013 Seedings\", \"x\": [\"1\", \"2\", \"3\", \"4\", \"5\"], \"y\": [null, 46.0, 52.0, 7.0, null], \"type\": \"scatter\", \"uid\": \"1c9962de-a4b1-11e8-89c2-d0a637eba0e3\"}, {\"marker\": {\"color\": \"blue\", \"line\": {\"color\": \"rgb(8,48,107)\", \"width\": 3.5}}, \"name\": \"Snap \\u2013\\u2013 Engagements\", \"x\": [\"1\", \"2\", \"3\", \"4\", \"5\"], \"y\": [19.0, 19.0, 19.0, 42.0, 34.0], \"type\": \"scatter\", \"uid\": \"1c9963a6-a4b1-11e8-9a32-d0a637eba0e3\"}, {\"marker\": {\"color\": \"green\", \"line\": {\"color\": \"rgb(8,48,107)\", \"width\": 3.5}}, \"name\": \"Crackle \\u2013\\u2013 Engagements\", \"x\": [\"1\", \"2\", \"3\", \"4\", \"5\"], \"y\": [null, null, 12.0, 45.0, 38.0], \"type\": \"scatter\", \"uid\": \"1c996464-a4b1-11e8-b9f6-d0a637eba0e3\"}, {\"marker\": {\"color\": \"red\", \"line\": {\"color\": \"rgb(8,48,107)\", \"width\": 3.5}}, \"name\": \"Pop \\u2013\\u2013 Engagements\", \"x\": [\"1\", \"2\", \"3\", \"4\", \"5\"], \"y\": [null, 0.0, 86.0, 65.0, 5.0], \"type\": \"scatter\", \"uid\": \"1c99650c-a4b1-11e8-a155-d0a637eba0e3\"}],\n",
       "            {\"autosize\": false, \"title\": \"Seedings and their Effect on Total Activations\", \"xaxis\": {\"title\": \"Month\", \"titlefont\": {\"color\": \"#7f7f7f\", \"family\": \"Courier New, monospace\", \"size\": 18}}, \"yaxis\": {\"title\": \"Total Sum\", \"titlefont\": {\"color\": \"#7f7f7f\", \"family\": \"Courier New, monospace\", \"size\": 18}, \"type\": \"log\"}},\n",
       "            {\"showLink\": true, \"linkText\": \"Export to plot.ly\"}\n",
       "        ).then(function () {return Plotly.addFrames('bb50d0e9-9e5a-491d-9ea2-4715b0fa7072',{});}).then(function(){Plotly.animate('bb50d0e9-9e5a-491d-9ea2-4715b0fa7072');})\n",
       "        });</script>"
      ]
     },
     "metadata": {},
     "output_type": "display_data"
    }
   ],
   "source": [
    "trace1 = go.Scatter(x = conf_seedings.month, \n",
    "                    y = conf_seedings['snap2_val'],\n",
    "                    marker = dict(color = 'blue',\n",
    "                                line = dict(color='rgb(8,48,107)',\n",
    "                                width = 1.5)),\n",
    "                    name = 'Snap –– Seedings',\n",
    "                    line = dict(dash = 'dashdot'))\n",
    "\n",
    "trace2 = go.Scatter(x = conf_seedings.month, \n",
    "                    y = conf_seedings['crack2_val'],\n",
    "                    marker = dict(color = 'green',\n",
    "                                line = dict(color='rgb(8,48,107)',\n",
    "                                width = 1.5)),\n",
    "                    name = 'Crackle –– Seedings',\n",
    "                    line = dict(dash = 'dashdot'))\n",
    "\n",
    "trace3 = go.Scatter(x = conf_seedings.month, \n",
    "                    y = conf_seedings['pop2_val'],\n",
    "                    marker = dict(color = 'red',\n",
    "                                line = dict(color='rgb(8,48,107)',\n",
    "                                width = 1.5)),\n",
    "                    name = 'Pop –– Seedings',\n",
    "                    line = dict(dash = 'dashdot'))\n",
    "\n",
    "trace4 = go.Scatter(x = total_activations.month, \n",
    "                    y = total_activations['snap2_val'],\n",
    "                    marker = dict(color = 'blue',\n",
    "                                line = dict(color='rgb(8,48,107)',\n",
    "                                width = 3.5)),\n",
    "                    name = 'Snap –– Engagements')\n",
    "\n",
    "trace5 = go.Scatter(x = total_activations.month, \n",
    "                    y = total_activations['crack2_val'],\n",
    "                    marker = dict(color = 'green',\n",
    "                                line = dict(color='rgb(8,48,107)',\n",
    "                                width = 3.5)),\n",
    "                    name = 'Crackle –– Engagements')\n",
    "\n",
    "trace6 = go.Scatter(x = total_activations.month, \n",
    "                    y = total_activations['pop2_val'],\n",
    "                    marker = dict(color = 'red',\n",
    "                                line = dict(color='rgb(8,48,107)',\n",
    "                                width = 3.5)),\n",
    "                    name = 'Pop –– Engagements')\n",
    "\n",
    "layout = go.Layout(title = 'Seedings and their Effect on Total Activations',\n",
    "                   autosize = False,\n",
    "                   xaxis = dict(\n",
    "                                title='Month',\n",
    "                                titlefont=dict(\n",
    "                                family='Courier New, monospace',\n",
    "                                size=18,\n",
    "                                color='#7f7f7f')),\n",
    "                   yaxis = dict(\n",
    "                                type = 'log',\n",
    "                                title='Total Sum',\n",
    "                                titlefont=dict(\n",
    "                                family='Courier New, monospace',\n",
    "                                size=18,\n",
    "                                color = '#7f7f7f')))\n",
    "\n",
    "\n",
    "data1 = [trace1, trace2, trace3, trace4, trace5, trace6]\n",
    "\n",
    "fig1 = go.Figure(data = data1, layout = layout)\n",
    "p.iplot(fig1)"
   ]
  },
  {
   "cell_type": "markdown",
   "metadata": {},
   "source": [
    "We can see that there is (like there seems to be with most other things) a strong ***positive*** correlation shared between **seedings** and **engagement** for Snap, a strong ***negative*** correlation for Crackle, and a **lagged** yet ***positive*** correlation for Pop."
   ]
  },
  {
   "cell_type": "markdown",
   "metadata": {},
   "source": [
    "## Reach and its Effect on Engagement"
   ]
  },
  {
   "cell_type": "markdown",
   "metadata": {},
   "source": [
    "This test is more to emphasize the importance of control variables, and why we'd need to include them in whatever causation/correlation tests we'd run.\n",
    "\n",
    "For example, one thing that we ought to control for when determining how many like or shares or whatever (**engagement**) an influencer gets is **reach**. This is why running a multivariate analysis is so important –– having a control variable such as **reach** makes whatever our variable of interest is far easier to interpret; it also makes its regression estimate a lot more accurate. We aren't using a multivariate regression here, though, and including nine lines on a graph is sure to get messy. (I'm also not so sure it would be interpretable.) With this thought, we look below:"
   ]
  },
  {
   "cell_type": "code",
   "execution_count": 24,
   "metadata": {},
   "outputs": [
    {
     "data": {
      "application/vnd.plotly.v1+json": {
       "data": [
        {
         "line": {
          "dash": "dashdot"
         },
         "marker": {
          "color": "blue",
          "line": {
           "color": "rgb(8,48,107)",
           "width": 1.5
          }
         },
         "name": "Snap",
         "type": "scatter",
         "uid": "1ef4f48a-a4b1-11e8-967e-d0a637eba0e3",
         "x": [
          "1",
          "2",
          "3",
          "4",
          "5",
          "6"
         ],
         "y": [
          "1306899",
          "1306899",
          "1306899",
          "780543",
          "825172",
          null
         ]
        },
        {
         "line": {
          "dash": "dashdot"
         },
         "marker": {
          "color": "green",
          "line": {
           "color": "rgb(8,48,107)",
           "width": 1.5
          }
         },
         "name": "Crackle",
         "type": "scatter",
         "uid": "1ef4f61a-a4b1-11e8-a261-d0a637eba0e3",
         "x": [
          "1",
          "2",
          "3",
          "4",
          "5",
          "6"
         ],
         "y": [
          null,
          0,
          1329875,
          1142397,
          211700,
          null
         ]
        },
        {
         "line": {
          "dash": "dashdot"
         },
         "marker": {
          "color": "red",
          "line": {
           "color": "rgb(8,48,107)",
           "width": 1.5
          }
         },
         "name": "Pop",
         "type": "scatter",
         "uid": "1ef4f6ec-a4b1-11e8-8c55-d0a637eba0e3",
         "x": [
          "1",
          "2",
          "3",
          "4",
          "5",
          "6"
         ],
         "y": [
          null,
          null,
          338346,
          761849,
          602878,
          476474
         ]
        },
        {
         "marker": {
          "color": "blue",
          "line": {
           "color": "rgb(8,48,107)",
           "width": 1.5
          }
         },
         "name": "Snap",
         "type": "scatter",
         "uid": "1ef4f79e-a4b1-11e8-b25f-d0a637eba0e3",
         "x": [
          "1",
          "2",
          "3",
          "4",
          "5",
          "6"
         ],
         "y": [
          "8251",
          "8251",
          "8251",
          "16044",
          "1785",
          null
         ]
        },
        {
         "marker": {
          "color": "green",
          "line": {
           "color": "rgb(8,48,107)",
           "width": 1.5
          }
         },
         "name": "Crackle",
         "type": "scatter",
         "uid": "1ef4f84a-a4b1-11e8-ae75-d0a637eba0e3",
         "x": [
          "1",
          "2",
          "3",
          "4",
          "5",
          "6"
         ],
         "y": [
          null,
          0,
          22652,
          23529,
          7618,
          null
         ]
        },
        {
         "marker": {
          "color": "red",
          "line": {
           "color": "rgb(8,48,107)",
           "width": 1.5
          }
         },
         "name": "Pop",
         "type": "scatter",
         "uid": "1ef4f8fe-a4b1-11e8-bc84-d0a637eba0e3",
         "x": [
          "1",
          "2",
          "3",
          "4",
          "5",
          "6"
         ],
         "y": [
          null,
          null,
          2702,
          6857,
          11845,
          5148
         ]
        }
       ],
       "layout": {
        "autosize": false,
        "title": "Total Engagements by Total Potential Reach",
        "xaxis": {
         "title": "Month",
         "titlefont": {
          "color": "#7f7f7f",
          "family": "Courier New, monospace",
          "size": 18
         }
        },
        "yaxis": {
         "title": "Total Sum",
         "titlefont": {
          "color": "#7f7f7f",
          "family": "Courier New, monospace",
          "size": 18
         },
         "type": "log"
        }
       }
      },
      "text/html": [
       "<div id=\"366ae2b0-b824-4b86-b4a7-461b4f97f675\" style=\"height: 525px; width: 100%;\" class=\"plotly-graph-div\"></div><script type=\"text/javascript\">require([\"plotly\"], function(Plotly) { window.PLOTLYENV=window.PLOTLYENV || {};window.PLOTLYENV.BASE_URL=\"https://plot.ly\";\n",
       "        Plotly.plot(\n",
       "            '366ae2b0-b824-4b86-b4a7-461b4f97f675',\n",
       "            [{\"line\": {\"dash\": \"dashdot\"}, \"marker\": {\"color\": \"blue\", \"line\": {\"color\": \"rgb(8,48,107)\", \"width\": 1.5}}, \"name\": \"Snap\", \"x\": [\"1\", \"2\", \"3\", \"4\", \"5\", \"6\"], \"y\": [\"1306899\", \"1306899\", \"1306899\", \"780543\", \"825172\", null], \"type\": \"scatter\", \"uid\": \"1ef4f48a-a4b1-11e8-967e-d0a637eba0e3\"}, {\"line\": {\"dash\": \"dashdot\"}, \"marker\": {\"color\": \"green\", \"line\": {\"color\": \"rgb(8,48,107)\", \"width\": 1.5}}, \"name\": \"Crackle\", \"x\": [\"1\", \"2\", \"3\", \"4\", \"5\", \"6\"], \"y\": [null, 0.0, 1329875.0, 1142397.0, 211700.0, null], \"type\": \"scatter\", \"uid\": \"1ef4f61a-a4b1-11e8-a261-d0a637eba0e3\"}, {\"line\": {\"dash\": \"dashdot\"}, \"marker\": {\"color\": \"red\", \"line\": {\"color\": \"rgb(8,48,107)\", \"width\": 1.5}}, \"name\": \"Pop\", \"x\": [\"1\", \"2\", \"3\", \"4\", \"5\", \"6\"], \"y\": [null, null, 338346.0, 761849.0, 602878.0, 476474.0], \"type\": \"scatter\", \"uid\": \"1ef4f6ec-a4b1-11e8-8c55-d0a637eba0e3\"}, {\"marker\": {\"color\": \"blue\", \"line\": {\"color\": \"rgb(8,48,107)\", \"width\": 1.5}}, \"name\": \"Snap\", \"x\": [\"1\", \"2\", \"3\", \"4\", \"5\", \"6\"], \"y\": [\"8251\", \"8251\", \"8251\", \"16044\", \"1785\", null], \"type\": \"scatter\", \"uid\": \"1ef4f79e-a4b1-11e8-b25f-d0a637eba0e3\"}, {\"marker\": {\"color\": \"green\", \"line\": {\"color\": \"rgb(8,48,107)\", \"width\": 1.5}}, \"name\": \"Crackle\", \"x\": [\"1\", \"2\", \"3\", \"4\", \"5\", \"6\"], \"y\": [null, 0.0, 22652.0, 23529.0, 7618.0, null], \"type\": \"scatter\", \"uid\": \"1ef4f84a-a4b1-11e8-ae75-d0a637eba0e3\"}, {\"marker\": {\"color\": \"red\", \"line\": {\"color\": \"rgb(8,48,107)\", \"width\": 1.5}}, \"name\": \"Pop\", \"x\": [\"1\", \"2\", \"3\", \"4\", \"5\", \"6\"], \"y\": [null, null, 2702.0, 6857.0, 11845.0, 5148.0], \"type\": \"scatter\", \"uid\": \"1ef4f8fe-a4b1-11e8-bc84-d0a637eba0e3\"}],\n",
       "            {\"autosize\": false, \"title\": \"Total Engagements by Total Potential Reach\", \"xaxis\": {\"title\": \"Month\", \"titlefont\": {\"color\": \"#7f7f7f\", \"family\": \"Courier New, monospace\", \"size\": 18}}, \"yaxis\": {\"title\": \"Total Sum\", \"titlefont\": {\"color\": \"#7f7f7f\", \"family\": \"Courier New, monospace\", \"size\": 18}, \"type\": \"log\"}},\n",
       "            {\"showLink\": true, \"linkText\": \"Export to plot.ly\"}\n",
       "        ).then(function () {return Plotly.addFrames('366ae2b0-b824-4b86-b4a7-461b4f97f675',{});}).then(function(){Plotly.animate('366ae2b0-b824-4b86-b4a7-461b4f97f675');})\n",
       "        });</script>"
      ],
      "text/vnd.plotly.v1+html": [
       "<div id=\"366ae2b0-b824-4b86-b4a7-461b4f97f675\" style=\"height: 525px; width: 100%;\" class=\"plotly-graph-div\"></div><script type=\"text/javascript\">require([\"plotly\"], function(Plotly) { window.PLOTLYENV=window.PLOTLYENV || {};window.PLOTLYENV.BASE_URL=\"https://plot.ly\";\n",
       "        Plotly.plot(\n",
       "            '366ae2b0-b824-4b86-b4a7-461b4f97f675',\n",
       "            [{\"line\": {\"dash\": \"dashdot\"}, \"marker\": {\"color\": \"blue\", \"line\": {\"color\": \"rgb(8,48,107)\", \"width\": 1.5}}, \"name\": \"Snap\", \"x\": [\"1\", \"2\", \"3\", \"4\", \"5\", \"6\"], \"y\": [\"1306899\", \"1306899\", \"1306899\", \"780543\", \"825172\", null], \"type\": \"scatter\", \"uid\": \"1ef4f48a-a4b1-11e8-967e-d0a637eba0e3\"}, {\"line\": {\"dash\": \"dashdot\"}, \"marker\": {\"color\": \"green\", \"line\": {\"color\": \"rgb(8,48,107)\", \"width\": 1.5}}, \"name\": \"Crackle\", \"x\": [\"1\", \"2\", \"3\", \"4\", \"5\", \"6\"], \"y\": [null, 0.0, 1329875.0, 1142397.0, 211700.0, null], \"type\": \"scatter\", \"uid\": \"1ef4f61a-a4b1-11e8-a261-d0a637eba0e3\"}, {\"line\": {\"dash\": \"dashdot\"}, \"marker\": {\"color\": \"red\", \"line\": {\"color\": \"rgb(8,48,107)\", \"width\": 1.5}}, \"name\": \"Pop\", \"x\": [\"1\", \"2\", \"3\", \"4\", \"5\", \"6\"], \"y\": [null, null, 338346.0, 761849.0, 602878.0, 476474.0], \"type\": \"scatter\", \"uid\": \"1ef4f6ec-a4b1-11e8-8c55-d0a637eba0e3\"}, {\"marker\": {\"color\": \"blue\", \"line\": {\"color\": \"rgb(8,48,107)\", \"width\": 1.5}}, \"name\": \"Snap\", \"x\": [\"1\", \"2\", \"3\", \"4\", \"5\", \"6\"], \"y\": [\"8251\", \"8251\", \"8251\", \"16044\", \"1785\", null], \"type\": \"scatter\", \"uid\": \"1ef4f79e-a4b1-11e8-b25f-d0a637eba0e3\"}, {\"marker\": {\"color\": \"green\", \"line\": {\"color\": \"rgb(8,48,107)\", \"width\": 1.5}}, \"name\": \"Crackle\", \"x\": [\"1\", \"2\", \"3\", \"4\", \"5\", \"6\"], \"y\": [null, 0.0, 22652.0, 23529.0, 7618.0, null], \"type\": \"scatter\", \"uid\": \"1ef4f84a-a4b1-11e8-ae75-d0a637eba0e3\"}, {\"marker\": {\"color\": \"red\", \"line\": {\"color\": \"rgb(8,48,107)\", \"width\": 1.5}}, \"name\": \"Pop\", \"x\": [\"1\", \"2\", \"3\", \"4\", \"5\", \"6\"], \"y\": [null, null, 2702.0, 6857.0, 11845.0, 5148.0], \"type\": \"scatter\", \"uid\": \"1ef4f8fe-a4b1-11e8-bc84-d0a637eba0e3\"}],\n",
       "            {\"autosize\": false, \"title\": \"Total Engagements by Total Potential Reach\", \"xaxis\": {\"title\": \"Month\", \"titlefont\": {\"color\": \"#7f7f7f\", \"family\": \"Courier New, monospace\", \"size\": 18}}, \"yaxis\": {\"title\": \"Total Sum\", \"titlefont\": {\"color\": \"#7f7f7f\", \"family\": \"Courier New, monospace\", \"size\": 18}, \"type\": \"log\"}},\n",
       "            {\"showLink\": true, \"linkText\": \"Export to plot.ly\"}\n",
       "        ).then(function () {return Plotly.addFrames('366ae2b0-b824-4b86-b4a7-461b4f97f675',{});}).then(function(){Plotly.animate('366ae2b0-b824-4b86-b4a7-461b4f97f675');})\n",
       "        });</script>"
      ]
     },
     "metadata": {},
     "output_type": "display_data"
    }
   ],
   "source": [
    "trace1 = go.Scatter(x = total_potential_reach.month, \n",
    "                    y = total_potential_reach['snap2_val'],\n",
    "                    marker = dict(color = 'blue',\n",
    "                                line = dict(color='rgb(8,48,107)',\n",
    "                                width = 1.5)),\n",
    "                    line = dict(dash = 'dashdot'),\n",
    "                    name = 'Snap')\n",
    "\n",
    "trace2 = go.Scatter(x = total_potential_reach.month, \n",
    "                    y = total_potential_reach['crack2_val'],\n",
    "                    marker = dict(color = 'green',\n",
    "                                line = dict(color='rgb(8,48,107)',\n",
    "                                width = 1.5)),\n",
    "                    line = dict(dash = 'dashdot'),\n",
    "                    name = 'Crackle')\n",
    "\n",
    "trace3 = go.Scatter(x = total_potential_reach.month, \n",
    "                    y = total_potential_reach['pop2_val'],\n",
    "                    marker = dict(color = 'red',\n",
    "                                line = dict(color='rgb(8,48,107)',\n",
    "                                width = 1.5)),\n",
    "                    line = dict(dash = 'dashdot'),\n",
    "                    name = 'Pop')\n",
    "\n",
    "trace4 = go.Scatter(x = total_engagements.month, \n",
    "                    y = total_engagements['snap2_val'],\n",
    "                    marker = dict(color = 'blue',\n",
    "                                line = dict(color='rgb(8,48,107)',\n",
    "                                width = 1.5)),\n",
    "                    name = 'Snap')\n",
    "\n",
    "trace5 = go.Scatter(x = total_engagements.month, \n",
    "                    y = total_engagements['crack2_val'],\n",
    "                    marker = dict(color = 'green',\n",
    "                                line = dict(color='rgb(8,48,107)',\n",
    "                                width = 1.5)),\n",
    "                    name = 'Crackle')\n",
    "\n",
    "trace6 = go.Scatter(x = total_engagements.month, \n",
    "                    y = total_engagements['pop2_val'],\n",
    "                    marker = dict(color = 'red',\n",
    "                                line = dict(color='rgb(8,48,107)',\n",
    "                                width = 1.5)),\n",
    "                    name = 'Pop')\n",
    "\n",
    "layout = go.Layout(title = 'Total Engagements by Total Potential Reach',\n",
    "                   autosize = False,\n",
    "                   xaxis = dict(\n",
    "                                title='Month',\n",
    "                                titlefont=dict(\n",
    "                                family='Courier New, monospace',\n",
    "                                size=18,\n",
    "                                color='#7f7f7f')),\n",
    "                   yaxis = dict(\n",
    "                                type = 'log',\n",
    "                                title='Total Sum',\n",
    "                                titlefont=dict(\n",
    "                                family='Courier New, monospace',\n",
    "                                size=18,\n",
    "                                color = '#7f7f7f')))\n",
    "\n",
    "\n",
    "data1 = [trace1, trace2, trace3, trace4, trace5, trace6]\n",
    "\n",
    "fig1 = go.Figure(data = data1, layout = layout)\n",
    "p.iplot(fig1)"
   ]
  },
  {
   "cell_type": "markdown",
   "metadata": {},
   "source": [
    "It's made obvious here that **engagement** largely depends on **reach**, and when checking for something like the effect of **seedings** on **unique activations**, for example, maybe there's a **control** variable we haven't fully considered (like past use of other agency's materials). If given the opportunity, collecting those types of control variables would definitely be a priority of mine."
   ]
  },
  {
   "cell_type": "markdown",
   "metadata": {},
   "source": [
    "## Final Thoughts"
   ]
  },
  {
   "cell_type": "markdown",
   "metadata": {},
   "source": [
    "We can do little more than plot line graphs/make observation with this data. Much more useful would have been micro-level data –– or individual influencer data before it's aggregated. With that we could perform (mathematical) correlation analysis, regression, and the like. With this dataset, though, we're limited in what we can do. I felt like running a regression –– something I like to do in these sort of projects –– would have been overkill here. The dataset was simply too small. \n",
    "\n",
    "Also because of its size, though, was the fact that the results were relatively easy to eyeball. And so a regression, while it may have confirmed the statistical significance of our indepenent variables, it would not have answered our questions much better than what we already had. What was lacking, though, was a multivariate analysis. As we saw with our control variable \"example\", more than one factor is going to be a causal, and so in that case a multivariate regression would obviously have come in handy. There is only so much you can explain graphically. As for the questions asked, though:\n",
    "\n",
    "1. Please provide an example of the ways in which you could contextualize this data for presentation to a non-technical audience?\n",
    "\n",
    "I would try and do this just as I've done it above. The only thing I'd change if given the chance is the detail in which I work. I'd try and dig deeper if given better data. I think explaining the results of those tests –– while perhaps not as intuitive as showing a graph –– would not be as difficult as it might seem. Everything would and could be translated into laymen terms.  \n",
    "\n",
    "2. How would you acquire better data than what we have here? What would your strategy and toolset be for coordinating the collection of data across campaigns where a set of influencers are receiving products and potentially posting about them on social media. What additional metrics might we report on? Which ones would be best to show to clients with the goal being to get the most exposure possible?\n",
    "\n",
    "I think that collecting data on an influencer by influencer basis is a good place to start. Using APIs and forms of web scraping, we could do that to a relatively precise degree, I think. We could track each individual post and, given they market an item or advertisement that sets off some sort of \"buzzword\" indicating its ours (or of our interest), I would track the relevant data (again, using the proper API and having written an appropriate web scraping script). I think that this strategy could scale well across groups. The only thing we might have to take into account is advertising as a conglomerate. If, for example, the influencer was on tour with a bunch of other influencers that we were also doing business with, and the touring company was advertising them as a group, we'd have to parse by who was headlining the tour, who was the following act, etc."
   ]
  },
  {
   "cell_type": "markdown",
   "metadata": {},
   "source": [
    "But so I think that just about does it for me! I'd like to thank you for the opportunity. I can genuinely say that I enjoyed completing this assignment. I look forward to hearing your thoughts!\n",
    "\n",
    "\n",
    "Best,\n",
    "\n",
    "Matt Mecca"
   ]
  },
  {
   "cell_type": "code",
   "execution_count": null,
   "metadata": {},
   "outputs": [],
   "source": []
  },
  {
   "cell_type": "code",
   "execution_count": null,
   "metadata": {},
   "outputs": [],
   "source": []
  },
  {
   "cell_type": "code",
   "execution_count": null,
   "metadata": {},
   "outputs": [],
   "source": []
  }
 ],
 "metadata": {
  "kernelspec": {
   "display_name": "Python 3",
   "language": "python",
   "name": "python3"
  },
  "language_info": {
   "codemirror_mode": {
    "name": "ipython",
    "version": 3
   },
   "file_extension": ".py",
   "mimetype": "text/x-python",
   "name": "python",
   "nbconvert_exporter": "python",
   "pygments_lexer": "ipython3",
   "version": "3.6.6"
  }
 },
 "nbformat": 4,
 "nbformat_minor": 2
}
